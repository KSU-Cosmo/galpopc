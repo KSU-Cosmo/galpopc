{
 "cells": [
  {
   "cell_type": "code",
   "execution_count": 1,
   "id": "f01d3cc7-e959-48d0-993b-b973d5b1c66b",
   "metadata": {},
   "outputs": [
    {
     "name": "stdout",
     "output_type": "stream",
     "text": [
      "Top-level groups: ['halo', 'subsample']\n"
     ]
    }
   ],
   "source": [
    "import h5py\n",
    "import numpy as np\n",
    "\n",
    "# Open the file\n",
    "with h5py.File('/localdata/commondata/test.hd5', 'r') as f:\n",
    "    # Explore the top-level groups\n",
    "    print(\"Top-level groups:\", list(f.keys()))\n",
    "    \n",
    "    # Access 'halo' group\n",
    "    h_group = f['halo']\n",
    "    h_mass = h_group['mass'][:]\n",
    "    h_mass_log10 = np.log10(h_mass)\n",
    "    h_x = h_group['x'][:]\n",
    "    h_y = h_group['y'][:]\n",
    "    h_z = h_group['z'][:]\n",
    "    h_sigma = h_group['sigma'][:]\n",
    "    h_velocity = h_group['velocity'][:]\n",
    "    \n",
    "    # Access 'subsample' group\n",
    "    s_group = f['subsample']\n",
    "    s_mass = s_group['mass'][:]\n",
    "    s_mass_log10 = np.log10(s_mass)\n",
    "    s_x = s_group['x'][:]\n",
    "    s_y = s_group['y'][:]\n",
    "    s_z = s_group['z'][:]\n",
    "    s_velocity = s_group['velocity'][:]\n",
    "    s_n_particles = s_group['n_particles'][:]"
   ]
  },
  {
   "cell_type": "code",
   "execution_count": 2,
   "id": "0620022b-b181-4eb1-84b5-5255f6c931ae",
   "metadata": {},
   "outputs": [],
   "source": [
    "import galpop"
   ]
  },
  {
   "cell_type": "code",
   "execution_count": 7,
   "id": "557e35fc-a6de-4c66-8173-8ebeba519bb8",
   "metadata": {},
   "outputs": [
    {
     "data": {
      "text/plain": [
       "(array([-58.269783, -58.085327, -58.388054, ..., 822.255   , 822.77826 ,\n",
       "        822.3056  ], dtype=float32),\n",
       " array([ 999.405  , -998.28827, -996.64233, ...,  987.9647 ,  994.8288 ,\n",
       "         997.69037], dtype=float32),\n",
       " array([ -97.82207 ,  -23.158543,  665.42957 , ..., -459.02484 ,\n",
       "         374.75842 , -415.7269  ], dtype=float32),\n",
       " array([-57.682, -57.522, -57.5  , ..., 823.478, 822.056, 822.298],\n",
       "       dtype=float32),\n",
       " array([-989.83 , -989.84 , -989.662, ...,  970.004,  970.604,  978.706],\n",
       "       dtype=float32),\n",
       " array([-376.142  , -387.6387 , -373.70563, ..., -176.7484 , -709.42   ,\n",
       "        -451.22964], dtype=float32))"
      ]
     },
     "execution_count": 7,
     "metadata": {},
     "output_type": "execute_result"
    }
   ],
   "source": [
    "galpop.populate_galaxies(\n",
    "    # Halo arrays\n",
    "    h_mass_log10, h_x, h_y, h_z, h_velocity, h_sigma,\n",
    "    # Subhalo arrays\n",
    "    s_mass_log10, s_mass, s_velocity, s_n_particles, s_x, s_y, s_z, s_velocity,\n",
    "    # HOD parameters\n",
    "    13.0, 0.1, 13.5, 1.0, 1.0, 0.0, 1.0,\n",
    "    # Other parameters\n",
    "    True, -1000.0, 1000.0\n",
    ")"
   ]
  },
  {
   "cell_type": "code",
   "execution_count": 5,
   "id": "0df06065-ed90-4b91-9876-8dc988e82bac",
   "metadata": {},
   "outputs": [],
   "source": [
    "%load_ext line_profiler\n"
   ]
  },
  {
   "cell_type": "code",
   "execution_count": 6,
   "id": "757ac80d-0e8b-4d8b-8164-0a026c059465",
   "metadata": {},
   "outputs": [
    {
     "data": {
      "text/plain": [
       "Timer unit: 1e-09 s\n",
       "\n",
       "Total time: 51.4258 s\n",
       "File: /localdata/lado/code/GalPopC/galpop.py\n",
       "Function: populate_galaxies at line 4\n",
       "\n",
       "Line #      Hits         Time  Per Hit   % Time  Line Contents\n",
       "==============================================================\n",
       "     4                                           def populate_galaxies(\n",
       "     5                                               # Halo arrays\n",
       "     6                                               h_mass_log10, h_x, h_y, h_z, h_velocity, h_sigma,\n",
       "     7                                               # Subhalo arrays\n",
       "     8                                               s_mass_log10, s_mass, s_host_velocity, s_n_particles,\n",
       "     9                                               s_x, s_y, s_z, s_velocity,\n",
       "    10                                               # HOD parameters\n",
       "    11                                               lnMcut, sigma, lnM1, kappa, alpha, alpha_c, alpha_s,\n",
       "    12                                               # Other parameters\n",
       "    13                                               rsd, Lmin, Lmax\n",
       "    14                                           ):\n",
       "    15        10      41176.0   4117.6      0.0      Nh = len(h_mass_log10)\n",
       "    16        10       9587.0    958.7      0.0      Ns = len(s_mass)\n",
       "    17                                           \n",
       "    18        10      31465.0   3146.5      0.0      Mcut = 10.0 ** lnMcut\n",
       "    19        10       6817.0    681.7      0.0      M1 = 10.0 ** lnM1\n",
       "    20                                           \n",
       "    21                                               # --- Allocate outputs for centrals ---\n",
       "    22        10    4024401.0 402440.1      0.0      cen_z = np.empty_like(h_z, dtype=np.float32)\n",
       "    23        10      69344.0   6934.4      0.0      gal_mask = np.empty(Nh, dtype=np.uint8)\n",
       "    24                                           \n",
       "    25                                               # --- Compute centrals via C extension ---\n",
       "    26        20 8800566064.0    4e+08     17.1      galcore.compute_centrals(\n",
       "    27        10  409245984.0    4e+07      0.8          h_mass_log10.astype(np.float32),\n",
       "    28        10  388849579.0    4e+07      0.8          h_z.astype(np.float32),\n",
       "    29        10  388618932.0    4e+07      0.8          h_velocity.astype(np.float32),\n",
       "    30        10  388772659.0    4e+07      0.8          h_sigma.astype(np.float32),\n",
       "    31        10     554646.0  55464.6      0.0          float(lnMcut), float(sigma), float(alpha_c), np.random.randint(1 << 30),\n",
       "    32        10      11414.0   1141.4      0.0          cen_z, gal_mask\n",
       "    33                                               )\n",
       "    34                                           \n",
       "    35                                               # --- Allocate outputs for satellites ---\n",
       "    36        10    3474665.0 347466.5      0.0      sat_z = np.empty_like(s_z, dtype=np.float32)\n",
       "    37        10    3530858.0 353085.8      0.0      sat_mask = np.empty(Ns, dtype=np.uint8)\n",
       "    38                                           \n",
       "    39                                               # --- Compute satellites via C extension ---\n",
       "    40        20        3e+10    2e+09     63.9      galcore.compute_satellites(\n",
       "    41        10  822738705.0    8e+07      1.6          s_mass_log10.astype(np.float32),\n",
       "    42        10  823468831.0    8e+07      1.6          s_mass.astype(np.float32),\n",
       "    43        10  682199846.0    7e+07      1.3          s_n_particles.astype(np.float32),\n",
       "    44        10  774787196.0    8e+07      1.5          s_z.astype(np.float32),\n",
       "    45        10  774748475.0    8e+07      1.5          s_velocity.astype(np.float32),\n",
       "    46        10  774040908.0    8e+07      1.5          s_host_velocity.astype(np.float32),\n",
       "    47        10      56093.0   5609.3      0.0          float(lnMcut), float(sigma), float(M1), float(kappa),\n",
       "    48        10       7096.0    709.6      0.0          float(alpha), float(alpha_s),\n",
       "    49        10       5595.0    559.5      0.0          float(Lmin), float(Lmax),\n",
       "    50        10     452500.0  45250.0      0.0          int(rsd), np.random.randint(1 << 30),\n",
       "    51        10       8508.0    850.8      0.0          sat_z, sat_mask\n",
       "    52                                               )\n",
       "    53                                           \n",
       "    54                                               # --- Return selected galaxy positions ---\n",
       "    55        10      21312.0   2131.2      0.0      return (\n",
       "    56        10 1597611229.0    2e+08      3.1          h_x[gal_mask.astype(bool)], h_y[gal_mask.astype(bool)], cen_z[gal_mask.astype(bool)],\n",
       "    57        10 1946241817.0    2e+08      3.8          s_x[sat_mask.astype(bool)], s_y[sat_mask.astype(bool)], sat_z[sat_mask.astype(bool)]\n",
       "    58                                               )"
      ]
     },
     "metadata": {},
     "output_type": "display_data"
    }
   ],
   "source": [
    "def test():\n",
    "    for _ in range(10):\n",
    "        galpop.populate_galaxies(\n",
    "    # Halo arrays\n",
    "    h_mass_log10, h_x, h_y, h_z, h_velocity, h_sigma,\n",
    "    # Subhalo arrays\n",
    "    s_mass_log10, s_mass, s_velocity, s_n_particles, s_x, s_y, s_z, s_velocity,\n",
    "    # HOD parameters\n",
    "    13.0, 0.1, 13.5, 1.0, 1.0, 0.0, 1.0,\n",
    "    # Other parameters\n",
    "    True, -1000.0, 1000.0)\n",
    "\n",
    "%lprun -f galpop.populate_galaxies test()\n"
   ]
  },
  {
   "cell_type": "code",
   "execution_count": null,
   "id": "20be096a-2bba-458a-82eb-a6155f6af2c2",
   "metadata": {},
   "outputs": [],
   "source": []
  }
 ],
 "metadata": {
  "kernelspec": {
   "display_name": "Python 3 (ipykernel)",
   "language": "python",
   "name": "python3"
  },
  "language_info": {
   "codemirror_mode": {
    "name": "ipython",
    "version": 3
   },
   "file_extension": ".py",
   "mimetype": "text/x-python",
   "name": "python",
   "nbconvert_exporter": "python",
   "pygments_lexer": "ipython3",
   "version": "3.9.21"
  }
 },
 "nbformat": 4,
 "nbformat_minor": 5
}

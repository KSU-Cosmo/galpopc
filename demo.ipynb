{
 "cells": [
  {
   "cell_type": "code",
   "execution_count": 1,
   "id": "f01d3cc7-e959-48d0-993b-b973d5b1c66b",
   "metadata": {},
   "outputs": [
    {
     "name": "stdout",
     "output_type": "stream",
     "text": [
      "Top-level groups: ['halo', 'subsample']\n"
     ]
    }
   ],
   "source": [
    "import h5py\n",
    "import numpy as np\n",
    "\n",
    "# Open the file\n",
    "with h5py.File('/localdata/commondata/test.hd5', 'r') as f:\n",
    "    # Explore the top-level groups\n",
    "    print(\"Top-level groups:\", list(f.keys()))\n",
    "    \n",
    "    # Access 'halo' group\n",
    "    h_group = f['halo']\n",
    "    h_mass = h_group['mass'][:]\n",
    "    h_mass_log10 = np.log10(h_mass)\n",
    "    h_x = h_group['x'][:]\n",
    "    h_y = h_group['y'][:]\n",
    "    h_z = h_group['z'][:]\n",
    "    h_sigma = h_group['sigma'][:]\n",
    "    h_velocity = h_group['velocity'][:]\n",
    "    \n",
    "    # Access 'subsample' group\n",
    "    s_group = f['subsample']\n",
    "    s_mass = s_group['mass'][:]\n",
    "    s_mass_log10 = np.log10(s_mass)\n",
    "    s_x = s_group['x'][:]\n",
    "    s_y = s_group['y'][:]\n",
    "    s_z = s_group['z'][:]\n",
    "    s_velocity = s_group['velocity'][:]\n",
    "    s_n_particles = s_group['n_particles'][:]"
   ]
  },
  {
   "cell_type": "code",
   "execution_count": 2,
   "id": "0620022b-b181-4eb1-84b5-5255f6c931ae",
   "metadata": {},
   "outputs": [],
   "source": [
    "import galpopc"
   ]
  },
  {
   "cell_type": "code",
   "execution_count": 3,
   "id": "557e35fc-a6de-4c66-8173-8ebeba519bb8",
   "metadata": {
    "scrolled": true
   },
   "outputs": [
    {
     "name": "stdout",
     "output_type": "stream",
     "text": [
      "Elapsed time: 1.130662 seconds\n"
     ]
    }
   ],
   "source": [
    "import time\n",
    "\n",
    "start = time.perf_counter()\n",
    "x, y, z, xs, ys, zs = galpopc.populate_galaxies(\n",
    "    # Halo arrays\n",
    "    h_mass_log10, h_x, h_y, h_z, h_velocity, h_sigma,\n",
    "    # Subhalo arrays\n",
    "    s_mass_log10, s_mass, s_velocity, s_n_particles, s_x, s_y, s_z, s_velocity,\n",
    "    # HOD parameters\n",
    "    13.0, 0.1, 13.5, 1.0, 1.0, 0.0, 1.0,\n",
    "    # Other parameters\n",
    "    True, -1000.0, 1000.0\n",
    ")\n",
    "end = time.perf_counter()\n",
    "\n",
    "print(f\"Elapsed time: {end - start:.6f} seconds\")"
   ]
  },
  {
   "cell_type": "code",
   "execution_count": 4,
   "id": "107fded8-3fd0-42e2-ae42-e912f7e48a65",
   "metadata": {},
   "outputs": [
    {
     "data": {
      "text/plain": [
       "872008"
      ]
     },
     "execution_count": 4,
     "metadata": {},
     "output_type": "execute_result"
    }
   ],
   "source": [
    "np.size(xs)"
   ]
  },
  {
   "cell_type": "code",
   "execution_count": 5,
   "id": "e2264a2f-ff9d-45cb-bff9-ab9ca9e7317b",
   "metadata": {},
   "outputs": [
    {
     "data": {
      "text/plain": [
       "59482050"
      ]
     },
     "execution_count": 5,
     "metadata": {},
     "output_type": "execute_result"
    }
   ],
   "source": [
    "np.size(s_mass)"
   ]
  },
  {
   "cell_type": "code",
   "execution_count": null,
   "id": "f67b948c-dc4d-4a7c-912e-d6a40ecf40c9",
   "metadata": {},
   "outputs": [],
   "source": []
  }
 ],
 "metadata": {
  "kernelspec": {
   "display_name": "Python 3 (ipykernel)",
   "language": "python",
   "name": "python3"
  },
  "language_info": {
   "codemirror_mode": {
    "name": "ipython",
    "version": 3
   },
   "file_extension": ".py",
   "mimetype": "text/x-python",
   "name": "python",
   "nbconvert_exporter": "python",
   "pygments_lexer": "ipython3",
   "version": "3.9.21"
  }
 },
 "nbformat": 4,
 "nbformat_minor": 5
}

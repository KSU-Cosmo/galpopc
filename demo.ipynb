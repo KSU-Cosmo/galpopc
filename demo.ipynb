{
 "cells": [
  {
   "cell_type": "code",
   "execution_count": 1,
   "id": "f01d3cc7-e959-48d0-993b-b973d5b1c66b",
   "metadata": {},
   "outputs": [
    {
     "name": "stdout",
     "output_type": "stream",
     "text": [
      "Top-level groups: ['halo', 'subsample']\n"
     ]
    }
   ],
   "source": [
    "import h5py\n",
    "import numpy as np\n",
    "\n",
    "# Open the file\n",
    "with h5py.File('/localdata/commondata/test.hd5', 'r') as f:\n",
    "    # Explore the top-level groups\n",
    "    print(\"Top-level groups:\", list(f.keys()))\n",
    "    \n",
    "    # Access 'halo' group\n",
    "    h_group = f['halo']\n",
    "    h_mass = h_group['mass'][:]\n",
    "    h_mass_log10 = np.log10(h_mass)\n",
    "    h_x = h_group['x'][:]\n",
    "    h_y = h_group['y'][:]\n",
    "    h_z = h_group['z'][:]\n",
    "    h_sigma = h_group['sigma'][:]\n",
    "    h_velocity = h_group['velocity'][:]\n",
    "    \n",
    "    # Access 'subsample' group\n",
    "    s_group = f['subsample']\n",
    "    s_mass = s_group['mass'][:]\n",
    "    s_mass_log10 = np.log10(s_mass)\n",
    "    s_x = s_group['x'][:]\n",
    "    s_y = s_group['y'][:]\n",
    "    s_z = s_group['z'][:]\n",
    "    s_velocity = s_group['velocity'][:]\n",
    "    s_n_particles = s_group['n_particles'][:]"
   ]
  },
  {
   "cell_type": "code",
   "execution_count": 2,
   "id": "0620022b-b181-4eb1-84b5-5255f6c931ae",
   "metadata": {},
   "outputs": [],
   "source": [
    "import galpopc"
   ]
  },
  {
   "cell_type": "code",
   "execution_count": 4,
   "id": "557e35fc-a6de-4c66-8173-8ebeba519bb8",
   "metadata": {
    "scrolled": true
   },
   "outputs": [
    {
     "name": "stdout",
     "output_type": "stream",
     "text": [
      "Elapsed time: 1.559974 seconds\n"
     ]
    }
   ],
   "source": [
    "import time\n",
    "\n",
    "start = time.perf_counter()\n",
    "x, xs, y, ys, zr, zsr, z, zs = galpopc.populate_galaxies(\n",
    "    # Halo arrays\n",
    "    h_mass_log10, h_x, h_y, h_z, h_velocity, h_sigma,\n",
    "    # Subhalo arrays\n",
    "    s_mass_log10, s_mass, s_velocity, s_n_particles, s_x, s_y, s_z, s_velocity,\n",
    "    # HOD parameters\n",
    "    12.5, 0.1, 13.5, 1.0, 1.0, 0.0, 1.0,\n",
    "    # Other parameters\n",
    "    True, -1000.0, 1000.0\n",
    ")\n",
    "end = time.perf_counter()\n",
    "\n",
    "print(f\"Elapsed time: {end - start:.6f} seconds\")"
   ]
  },
  {
   "cell_type": "code",
   "execution_count": 10,
   "id": "107fded8-3fd0-42e2-ae42-e912f7e48a65",
   "metadata": {},
   "outputs": [
    {
     "data": {
      "text/plain": [
       "array([-101.97296 ,  -19.712122,  165.08601 , ..., -992.6103  ,\n",
       "       -418.99783 ,  525.1388  ], dtype=float32)"
      ]
     },
     "execution_count": 10,
     "metadata": {},
     "output_type": "execute_result"
    }
   ],
   "source": [
    "zr"
   ]
  },
  {
   "cell_type": "code",
   "execution_count": 11,
   "id": "e2264a2f-ff9d-45cb-bff9-ab9ca9e7317b",
   "metadata": {},
   "outputs": [
    {
     "data": {
      "text/plain": [
       "array([-376.084,  201.27 ,  201.278, ...,  133.374, -672.522, -673.204],\n",
       "      dtype=float32)"
      ]
     },
     "execution_count": 11,
     "metadata": {},
     "output_type": "execute_result"
    }
   ],
   "source": [
    "zsr"
   ]
  },
  {
   "cell_type": "code",
   "execution_count": 12,
   "id": "f67b948c-dc4d-4a7c-912e-d6a40ecf40c9",
   "metadata": {},
   "outputs": [
    {
     "data": {
      "text/plain": [
       "array([ -97.82207 ,  -23.158543,  164.34415 , ..., -997.7888  ,\n",
       "       -415.7269  ,  525.2798  ], dtype=float32)"
      ]
     },
     "execution_count": 12,
     "metadata": {},
     "output_type": "execute_result"
    }
   ],
   "source": [
    "z"
   ]
  },
  {
   "cell_type": "code",
   "execution_count": 13,
   "id": "8657e7df-adad-4a54-83fa-721483035306",
   "metadata": {},
   "outputs": [
    {
     "data": {
      "text/plain": [
       "array([-389.0651 ,  210.20073,  201.1452 , ...,  136.62756, -677.96674,\n",
       "       -668.4564 ], dtype=float32)"
      ]
     },
     "execution_count": 13,
     "metadata": {},
     "output_type": "execute_result"
    }
   ],
   "source": [
    "zs"
   ]
  },
  {
   "cell_type": "code",
   "execution_count": 14,
   "id": "934f1ad3-bd88-414c-927b-04efe9637b0e",
   "metadata": {},
   "outputs": [
    {
     "data": {
      "text/plain": [
       "array([-3.9579225 ,  5.9596148 , -0.54115343, ..., -3.0291314 ,\n",
       "        4.6268167 , -3.3572586 ], dtype=float32)"
      ]
     },
     "execution_count": 14,
     "metadata": {},
     "output_type": "execute_result"
    }
   ],
   "source": [
    "h_velocity"
   ]
  },
  {
   "cell_type": "code",
   "execution_count": 16,
   "id": "d55f00e2-0b4b-49ff-bcc4-483a54426feb",
   "metadata": {},
   "outputs": [
    {
     "data": {
      "text/plain": [
       "-29.712399"
      ]
     },
     "execution_count": 16,
     "metadata": {},
     "output_type": "execute_result"
    }
   ],
   "source": [
    "np.min(h_velocity)"
   ]
  },
  {
   "cell_type": "code",
   "execution_count": 30,
   "id": "291b7228-3397-4f18-b259-de89b564d927",
   "metadata": {},
   "outputs": [
    {
     "data": {
      "text/plain": [
       "-1014.80615"
      ]
     },
     "execution_count": 30,
     "metadata": {},
     "output_type": "execute_result"
    }
   ],
   "source": [
    "np.min(z)\n"
   ]
  },
  {
   "cell_type": "code",
   "execution_count": null,
   "id": "601f9ab9-bb7a-48a4-b097-70268c010c13",
   "metadata": {},
   "outputs": [],
   "source": []
  }
 ],
 "metadata": {
  "kernelspec": {
   "display_name": "Python 3 (ipykernel)",
   "language": "python",
   "name": "python3"
  },
  "language_info": {
   "codemirror_mode": {
    "name": "ipython",
    "version": 3
   },
   "file_extension": ".py",
   "mimetype": "text/x-python",
   "name": "python",
   "nbconvert_exporter": "python",
   "pygments_lexer": "ipython3",
   "version": "3.9.21"
  }
 },
 "nbformat": 4,
 "nbformat_minor": 5
}

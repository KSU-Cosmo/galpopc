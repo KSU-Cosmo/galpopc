{
 "cells": [
  {
   "cell_type": "code",
   "execution_count": 1,
   "id": "f01d3cc7-e959-48d0-993b-b973d5b1c66b",
   "metadata": {},
   "outputs": [
    {
     "name": "stdout",
     "output_type": "stream",
     "text": [
      "Top-level groups: ['halo', 'subsample']\n"
     ]
    }
   ],
   "source": [
    "import h5py\n",
    "import numpy as np\n",
    "\n",
    "# Open the file\n",
    "with h5py.File('/localdata/commondata/test.hd5', 'r') as f:\n",
    "    # Explore the top-level groups\n",
    "    print(\"Top-level groups:\", list(f.keys()))\n",
    "    \n",
    "    # Access 'halo' group\n",
    "    h_group = f['halo']\n",
    "    h_mass = h_group['mass'][:]\n",
    "    h_mass_log10 = np.log10(h_mass)\n",
    "    h_x = h_group['x'][:]\n",
    "    h_y = h_group['y'][:]\n",
    "    h_z = h_group['z'][:]\n",
    "    h_sigma = h_group['sigma'][:]\n",
    "    h_velocity = h_group['velocity'][:]\n",
    "    \n",
    "    # Access 'subsample' group\n",
    "    s_group = f['subsample']\n",
    "    s_mass = s_group['mass'][:]\n",
    "    s_mass_log10 = np.log10(s_mass)\n",
    "    s_x = s_group['x'][:]\n",
    "    s_y = s_group['y'][:]\n",
    "    s_z = s_group['z'][:]\n",
    "    s_velocity = s_group['velocity'][:]\n",
    "    s_n_particles = s_group['n_particles'][:]"
   ]
  },
  {
   "cell_type": "code",
   "execution_count": 2,
   "id": "0620022b-b181-4eb1-84b5-5255f6c931ae",
   "metadata": {},
   "outputs": [],
   "source": [
    "import galpopc"
   ]
  },
  {
   "cell_type": "code",
   "execution_count": 4,
   "id": "557e35fc-a6de-4c66-8173-8ebeba519bb8",
   "metadata": {},
   "outputs": [
    {
     "data": {
      "text/plain": [
       "(array([-58.269783, -58.085327, -58.388054, ..., 822.255   , 822.77826 ,\n",
       "        822.3056  ], dtype=float32),\n",
       " array([ 999.405  , -998.28827, -996.64233, ...,  987.9647 ,  994.8288 ,\n",
       "         997.69037], dtype=float32),\n",
       " array([ -97.82207 ,  -23.158543,  665.42957 , ..., -459.02484 ,\n",
       "         374.75842 , -415.7269  ], dtype=float32),\n",
       " array([-58.508, -58.264, -58.258, ..., 822.01 , 822.392, 822.8  ],\n",
       "       dtype=float32),\n",
       " array([-990.956, -987.292, -987.44 , ...,  988.152,  987.904,  994.762],\n",
       "       dtype=float32),\n",
       " array([ 670.5997 ,  630.90436,  620.20764, ..., -453.41608, -451.7837 ,\n",
       "         367.4872 ], dtype=float32))"
      ]
     },
     "execution_count": 4,
     "metadata": {},
     "output_type": "execute_result"
    }
   ],
   "source": [
    "galpopc.populate_galaxies(\n",
    "    # Halo arrays\n",
    "    h_mass_log10, h_x, h_y, h_z, h_velocity, h_sigma,\n",
    "    # Subhalo arrays\n",
    "    s_mass_log10, s_mass, s_velocity, s_n_particles, s_x, s_y, s_z, s_velocity,\n",
    "    # HOD parameters\n",
    "    13.0, 0.1, 13.5, 1.0, 1.0, 0.0, 1.0,\n",
    "    # Other parameters\n",
    "    True, -1000.0, 1000.0\n",
    ")"
   ]
  }
 ],
 "metadata": {
  "kernelspec": {
   "display_name": "Python 3 (ipykernel)",
   "language": "python",
   "name": "python3"
  },
  "language_info": {
   "codemirror_mode": {
    "name": "ipython",
    "version": 3
   },
   "file_extension": ".py",
   "mimetype": "text/x-python",
   "name": "python",
   "nbconvert_exporter": "python",
   "pygments_lexer": "ipython3",
   "version": "3.9.21"
  }
 },
 "nbformat": 4,
 "nbformat_minor": 5
}
